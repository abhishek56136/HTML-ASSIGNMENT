{
  "cells": [
    {
      "cell_type": "markdown",
      "source": [
        "Q1. Describe the main differences between the CSS Flexbox layout model and the CSS Grid layout model. When\n",
        "would you choose to use one over the other?\n"
      ],
      "metadata": {
        "id": "OVcAkg3eahPm"
      }
    },
    {
      "cell_type": "markdown",
      "source": [
        "Main Differences Between Flexbox and Grid:\n",
        "Flexbox:\n",
        "\n",
        "One-dimensional layout: Aligns items in a single row or column.\n",
        "Best for arranging items in a line (e.g., navigation bars).\n",
        "Focuses on content alignment and spacing.\n",
        "\n",
        "Grid:\n",
        "Two-dimensional layout: Aligns items in rows and columns.\n",
        "Ideal for building full-page layouts (e.g., dashboards).\n",
        "Offers precise control over positioning"
      ],
      "metadata": {
        "id": "eOYdPil9a6gm"
      }
    },
    {
      "cell_type": "markdown",
      "source": [
        "2. Explain the role of the following key properties in the Flexbox layout mode\u0004\n",
        "2$ justify-conten\n",
        "\u001f$ align-item/\n",
        "\u0005$ ga)\n",
        "\u0015$ flex-directio\u0019\n",
        "$ flex-wrap"
      ],
      "metadata": {
        "id": "oW3FlHGbRpBk"
      }
    },
    {
      "cell_type": "markdown",
      "source": [
        "Here’s a quick breakdown of the key Flexbox properties:\n",
        "\n",
        "justify-content:\n",
        "Controls horizontal alignment of items within the container.\n",
        "Examples: flex-start, center, space-between, etc.\n",
        "\n",
        "align-items:\n",
        "Controls vertical alignment of items within the container.\n",
        "Examples: stretch, center, flex-start, etc.\n",
        "\n",
        "gap:\n",
        "Specifies spacing between Flexbox items.\n",
        "Example: gap: 10px; creates a 10px space between items.\n",
        "\n",
        "flex-direction:\n",
        "Defines the direction of the flex items.\n",
        "Examples: row, column, row-reverse, column-reverse.\n",
        "\n",
        "flex-wrap:\n",
        "Determines if items should wrap onto a new line when they overflow.\n",
        "Examples: nowrap, wrap, wrap-reverse.\n",
        "\n",
        ""
      ],
      "metadata": {
        "id": "7oWglt-HcON_"
      }
    },
    {
      "cell_type": "markdown",
      "source": [
        "3.Write the code to center a div using CSS Flexbox.\n",
        "Reference Image given below"
      ],
      "metadata": {
        "id": "a0bENKTzRuXb"
      }
    },
    {
      "cell_type": "code",
      "source": [
        "<!DOCTYPE html>\n",
        "<html lang=\"en\">\n",
        "<head>\n",
        "    <meta charset=\"UTF-8\">\n",
        "    <meta name=\"viewport\" content=\"width=device-width, initial-scale=1.0\">\n",
        "    <title>assignment</title>\n",
        "    <style>\n",
        "        body {\n",
        "      display: flex;\n",
        "      justify-content: center;  /* centers horizontally */\n",
        "      align-items: center;      /* centers vertically */\n",
        "      height: 100vh;            /* makes body full height */\n",
        "      margin: 0;                /* removes default spacing */\n",
        "    }\n",
        "\n",
        "        div {\n",
        "            width: 300px;\n",
        "            height: 300px;\n",
        "            background-color: green;\n",
        "            text-align: center;\n",
        "        }\n",
        "    </style>\n",
        "</head>\n",
        "<body>\n",
        "    <div>\n",
        "\n",
        "    </div>\n",
        "</body>\n",
        "</html>\n"
      ],
      "metadata": {
        "id": "wF_RiPhWFjZg"
      },
      "execution_count": null,
      "outputs": []
    },
    {
      "cell_type": "markdown",
      "source": [
        "4. A client of yours wants to add a pricing section on their website to showcase their newly introduced\n",
        "premium plans.\n",
        "\n",
        "You have to build the pricing section for their business. They have provided you with the figma design for the"
      ],
      "metadata": {
        "id": "eXa3FO7HNEsP"
      }
    },
    {
      "cell_type": "code",
      "source": [
        "<!DOCTYPE html>\n",
        "<html lang=\"en\">\n",
        "<head>\n",
        "  <meta charset=\"UTF-8\">\n",
        "  <meta name=\"viewport\" content=\"width=device-width, initial-scale=1.0\">\n",
        "  <title>Pricing Plans</title>\n",
        "</head>\n",
        "<body style=\"background-color:#f6f4fb; display:flex; justify-content:center; align-items:center; height:100vh; font-family:Poppins, sans-serif;\">\n",
        "\n",
        "  <div style=\"display:flex; gap:30px; flex-wrap:wrap; justify-content:center; align-items:center;\">\n",
        "\n",
        "    <!-- Free Plan -->\n",
        "    <div style=\"background:#fff; border-radius:12px; box-shadow:0 4px 10px rgba(0,0,0,0.1); width:280px; padding:30px; text-align:left;\">\n",
        "      <h2 style=\"font-size:1.5rem; color:#1b1c3a;\">Free Plan</h2>\n",
        "      <p style=\"color:#555; margin-bottom:15px;\">For personal</p>\n",
        "      <h1 style=\"font-size:2.5rem; color:#1b1c3a; margin:15px 0;\">$0</h1>\n",
        "      <ul style=\"list-style:none; margin:20px 0; color:#1b1c3a; line-height:1.8; padding:0;\">\n",
        "        <li>✅ 1 user</li>\n",
        "        <li>✅ 4 Web mails</li>\n",
        "        <li>✅ Responsive Website</li>\n",
        "        <li>✅ Free SSL</li>\n",
        "      </ul>\n",
        "      <button style=\"background-color:#1b1c3a; color:#fff; border:none; border-radius:25px; padding:12px 20px; font-size:1rem; width:100%; cursor:pointer;\">Subscribe now</button>\n",
        "    </div>\n",
        "\n",
        "    <!-- Basic Plan -->\n",
        "    <div style=\"background:#1b1c3a; color:#fff; border-radius:12px; box-shadow:0 4px 10px rgba(0,0,0,0.1); width:280px; padding:30px; text-align:left;\">\n",
        "      <h2 style=\"font-size:1.5rem; color:#fff;\">Basic Plan</h2>\n",
        "      <p style=\"color:#ccc; margin-bottom:15px;\">For small business</p>\n",
        "      <h1 style=\"font-size:2.5rem; color:#fff; margin:15px 0;\">$29</h1>\n",
        "      <ul style=\"list-style:none; margin:20px 0; color:#fff; line-height:1.8; padding:0;\">\n",
        "        <li>✅ 4 users</li>\n",
        "        <li>✅ 10 Web mails</li>\n",
        "        <li>✅ Responsive Website</li>\n",
        "        <li>✅ Free SSL</li>\n",
        "      </ul>\n",
        "      <button style=\"background-color:#fff; color:#1b1c3a; border:none; border-radius:25px; padding:12px 20px; font-size:1rem; width:100%; cursor:pointer;\">Subscribe now</button>\n",
        "    </div>\n",
        "\n",
        "    <!-- Pro Plan -->\n",
        "    <div style=\"background:#fff; border-radius:12px; box-shadow:0 4px 10px rgba(0,0,0,0.1); width:280px; padding:30px; text-align:left;\">\n",
        "      <h2 style=\"font-size:1.5rem; color:#1b1c3a;\">Pro Plan</h2>\n",
        "      <p style=\"color:#555; margin-bottom:15px;\">For enterprise</p>\n",
        "      <h1 style=\"font-size:2.5rem; color:#1b1c3a; margin:15px 0;\">$49</h1>\n",
        "      <ul style=\"list-style:none; margin:20px 0; color:#1b1c3a; line-height:1.8; padding:0;\">\n",
        "        <li>✅ Unlimited users</li>\n",
        "        <li>✅ Unlimited Web mails</li>\n",
        "        <li>✅ Responsive Website</li>\n",
        "        <li>✅ Free SSL + SEO</li>\n",
        "      </ul>\n",
        "      <button style=\"background-color:#1b1c3a; color:#fff; border:none; border-radius:25px; padding:12px 20px; font-size:1rem; width:100%; cursor:pointer;\">Subscribe now</button>\n",
        "    </div>\n",
        "\n",
        "  </div>\n",
        "</body>\n",
        "</html>\n"
      ],
      "metadata": {
        "id": "d5h6I8LyNMfe"
      },
      "execution_count": null,
      "outputs": []
    },
    {
      "cell_type": "markdown",
      "source": [
        "5.. build a clone of the IRCTC Ticket booking page."
      ],
      "metadata": {
        "id": "h48DCzkBjUhn"
      }
    },
    {
      "cell_type": "code",
      "source": [
        "<!DOCTYPE html>\n",
        "<html lang=\"en\">\n",
        "<head>\n",
        "    <meta charset=\"UTF-8\">\n",
        "    <meta name=\"viewport\" content=\"width=device-width, initial-scale=1.0\">\n",
        "    <title>Indian Railways Booking</title>\n",
        "    <style>\n",
        "        body {\n",
        "            font-family: 'Segoe UI', Tahoma, Geneva, Verdana, sans-serif;\n",
        "            background-color: #f5f7fa;\n",
        "            margin: 0;\n",
        "            padding: 20px;\n",
        "            display: flex;\n",
        "            justify-content: center;\n",
        "            align-items: center;\n",
        "            min-height: 100vh;\n",
        "        }\n",
        "    </style>\n",
        "</head>\n",
        "<body>\n",
        "    <div style=\"background-color: white; border-radius: 12px; box-shadow: 0 4px 20px rgba(0, 0, 0, 0.1); max-width: 500px; width: 100%; padding: 30px;\">\n",
        "        <!-- Header Section -->\n",
        "        <div style=\"text-align: center; margin-bottom: 25px;\">\n",
        "            <h1 style=\"color: #1a5276; margin: 0 0 5px 0; font-size: 28px;\">Indian Railways</h1>\n",
        "            <p style=\"color: #7f8c8d; margin: 0; font-size: 16px;\">Safety Security Punctuality</p>\n",
        "        </div>\n",
        "\n",
        "        <!-- Booking Options -->\n",
        "        <div style=\"display: flex; justify-content: space-between; background-color: #f8f9fa; border-radius: 8px; padding: 12px; margin-bottom: 25px;\">\n",
        "            <div style=\"display: flex; align-items: center;\">\n",
        "                <span style=\"color: #27ae60; margin-right: 5px;\">✓</span>\n",
        "                <span style=\"font-weight: 600;\">BOOK Ticket</span>\n",
        "            </div>\n",
        "            <div style=\"display: flex; align-items: center;\">\n",
        "                <span style=\"color: #27ae60; margin-right: 5px;\">✓</span>\n",
        "                <span>PNR Status</span>\n",
        "            </div>\n",
        "            <div style=\"display: flex; align-items: center;\">\n",
        "                <span style=\"color: #f39c12; margin-right: 5px;\">💡</span>\n",
        "                <span>Charts / Vacancy</span>\n",
        "            </div>\n",
        "        </div>\n",
        "\n",
        "        <!-- Booking Form -->\n",
        "        <div style=\"display: grid; grid-template-columns: 1fr 1fr; gap: 15px;\">\n",
        "            <!-- From Field -->\n",
        "            <div style=\"grid-column: span 1;\">\n",
        "                <label style=\"display: block; color: #7f8c8d; font-size: 14px; margin-bottom: 5px;\">From</label>\n",
        "                <div style=\"position: relative;\">\n",
        "                    <span style=\"position: absolute; left: 10px; top: 50%; transform: translateY(-50%); color: #27ae60;\">✓</span>\n",
        "                    <div style=\"border: 1px solid #e0e0e0; border-radius: 6px; padding: 12px 12px 12px 25px; background-color: #f8f9fa;\">\n",
        "                        <div style=\"font-weight: 600;\">Bangalore</div>\n",
        "                        <div style=\"font-size: 12px; color: #7f8c8d;\">KSR - Bangalore</div>\n",
        "                    </div>\n",
        "                </div>\n",
        "            </div>\n",
        "\n",
        "            <!-- To Field -->\n",
        "            <div style=\"grid-column: span 1;\">\n",
        "                <label style=\"display: block; color: #7f8c8d; font-size: 14px; margin-bottom: 5px;\">To</label>\n",
        "                <div style=\"position: relative;\">\n",
        "                    <span style=\"position: absolute; left: 10px; top: 50%; transform: translateY(-50%); color: #27ae60;\">✓</span>\n",
        "                    <div style=\"border: 1px solid #e0e0e0; border-radius: 6px; padding: 12px 12px 12px 25px; background-color: #f8f9fa;\">\n",
        "                        <div style=\"font-weight: 600;\">Kasaragod</div>\n",
        "                        <div style=\"font-size: 12px; color: #7f8c8d;\">KSD - Kasaragod</div>\n",
        "                    </div>\n",
        "                </div>\n",
        "            </div>\n",
        "\n",
        "            <!-- Date Field -->\n",
        "            <div style=\"grid-column: span 1;\">\n",
        "                <label style=\"display: block; color: #7f8c8d; font-size: 14px; margin-bottom: 5px;\">Date</label>\n",
        "                <div style=\"position: relative;\">\n",
        "                    <span style=\"position: absolute; left: 10px; top: 50%; transform: translateY(-50%); color: #27ae60;\">✓</span>\n",
        "                    <div style=\"border: 1px solid #e0e0e0; border-radius: 6px; padding: 12px 12px 12px 25px; background-color: #f8f9fa;\">\n",
        "                        <div style=\"font-weight: 600;\">01 Aug 23</div>\n",
        "                        <div style=\"font-size: 12px; color: #7f8c8d;\">Tuesday</div>\n",
        "                    </div>\n",
        "                </div>\n",
        "            </div>\n",
        "\n",
        "            <!-- Class Field -->\n",
        "            <div style=\"grid-column: span 1;\">\n",
        "                <label style=\"display: block; color: #7f8c8d; font-size: 14px; margin-bottom: 5px;\">Class</label>\n",
        "                <div style=\"position: relative;\">\n",
        "                    <span style=\"position: absolute; left: 10px; top: 50%; transform: translateY(-50%); color: #27ae60;\">✓</span>\n",
        "                    <div style=\"border: 1px solid #e0e0e0; border-radius: 6px; padding: 12px 12px 12px 25px; background-color: #f8f9fa;\">\n",
        "                        <div style=\"font-weight: 600;\">3A</div>\n",
        "                        <div style=\"font-size: 12px; color: #7f8c8d;\">AC 3 Tier</div>\n",
        "                    </div>\n",
        "                </div>\n",
        "            </div>\n",
        "\n",
        "            <!-- Seat Type Field -->\n",
        "            <div style=\"grid-column: span 2;\">\n",
        "                <label style=\"display: block; color: #7f8c8d; font-size: 14px; margin-bottom: 5px;\">Seat Type</label>\n",
        "                <div style=\"position: relative;\">\n",
        "                    <span style=\"position: absolute; left: 10px; top: 50%; transform: translateY(-50%); color: #27ae60;\">✓</span>\n",
        "                    <div style=\"border: 1px solid #e0e0e0; border-radius: 6px; padding: 12px 12px 12px 25px; background-color: #f8f9fa;\">\n",
        "                        <div style=\"font-weight: 600;\">TATKAL</div>\n",
        "                        <div style=\"font-size: 12px; color: #7f8c8d;\">AC 3 Tier</div>\n",
        "                    </div>\n",
        "                </div>\n",
        "            </div>\n",
        "        </div>\n",
        "\n",
        "        <!-- Search Button -->\n",
        "        <div style=\"margin-top: 25px;\">\n",
        "            <button style=\"background-color: #e74c3c; color: white; border: none; border-radius: 6px; padding: 14px; font-size: 16px; font-weight: 600; width: 100%; cursor: pointer; transition: background-color 0.3s;\">\n",
        "                Search Train →\n",
        "            </button>\n",
        "        </div>\n",
        "    </div>\n",
        "</body>\n",
        "</html>"
      ],
      "metadata": {
        "id": "uA84MIi8jWJ3"
      },
      "execution_count": null,
      "outputs": []
    }
  ],
  "metadata": {
    "colab": {
      "name": "Welcome To Colab",
      "provenance": []
    },
    "kernelspec": {
      "display_name": "Python 3",
      "name": "python3"
    }
  },
  "nbformat": 4,
  "nbformat_minor": 0
}