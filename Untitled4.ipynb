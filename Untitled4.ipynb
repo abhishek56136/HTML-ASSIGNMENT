{
  "nbformat": 4,
  "nbformat_minor": 0,
  "metadata": {
    "colab": {
      "provenance": []
    },
    "kernelspec": {
      "name": "python3",
      "display_name": "Python 3"
    },
    "language_info": {
      "name": "python"
    }
  },
  "cells": [
    {
      "cell_type": "code",
      "execution_count": null,
      "metadata": {
        "id": "h5z_OU5MWrvS"
      },
      "outputs": [],
      "source": []
    },
    {
      "cell_type": "markdown",
      "source": [
        " 1 .Create a navigation bar similar to the below-mentioned image. The navigation bar must contain 5\n",
        "navigation links that are properly placed within the navigation bar using the CSS box model. The navigation\n",
        "items must change their text color on hover."
      ],
      "metadata": {
        "id": "yiaXidEFWxe9"
      }
    },
    {
      "cell_type": "code",
      "source": [
        "/* 1. Navigation Bar */\n",
        ".navbar {\n",
        "    display: flex;\n",
        "    justify-content: space-around;\n",
        "    background-color: #333;\n",
        "    padding: 10px;\n",
        "}\n",
        ".navbar a {\n",
        "    color: white;\n",
        "    padding: 10px 20px;\n",
        "    text-decoration: none;\n",
        "}\n",
        ".navbar a:hover {\n",
        "    color: yellow;\n",
        "}\n"
      ],
      "metadata": {
        "id": "fEooDK38W2p5"
      },
      "execution_count": null,
      "outputs": []
    },
    {
      "cell_type": "markdown",
      "source": [
        "2.Create a div centered with an image and paragraph similar to the image mentioned below"
      ],
      "metadata": {
        "id": "o_hbpzGfXNi7"
      }
    },
    {
      "cell_type": "code",
      "source": [
        "/* 2. Centered Div with Image & Paragraph */\n",
        ".center-div {\n",
        "    display: flex;\n",
        "    flex-direction: column;\n",
        "    align-items: center;\n",
        "    margin-top: 40px;\n",
        "}\n",
        ".center-div img {\n",
        "    width: 200px;\n",
        "    height: auto;\n",
        "}\n",
        ".center-div p {\n",
        "    margin-top: 10px;\n",
        "    max-width: 400px;\n",
        "    text-align: center;\n",
        "}"
      ],
      "metadata": {
        "id": "w9_bphtDXURw"
      },
      "execution_count": null,
      "outputs": []
    },
    {
      "cell_type": "markdown",
      "source": [
        "3. Create a navigation bar similar to question 1. For each navigation item, use a different border style"
      ],
      "metadata": {
        "id": "coZmM4fLXoMl"
      }
    },
    {
      "cell_type": "code",
      "source": [
        "/* 3. Navigation Bar with Different Borders */\n",
        ".navbar-bordered a:nth-child(1) {\n",
        "    border: 2px solid red;\n",
        "}\n",
        ".navbar-bordered a:nth-child(2) {\n",
        "    border: 2px dashed green;\n",
        "}\n",
        ".navbar-bordered a:nth-child(3) {\n",
        "    border: 2px dotted blue;\n",
        "}\n",
        ".navbar-bordered a:nth-child(4) {\n",
        "    border: 2px double orange;\n",
        "}\n",
        ".navbar-bordered a:nth-child(5) {\n",
        "    border: 2px groove purple;\n",
        "}\n"
      ],
      "metadata": {
        "id": "NaEhS3ZNXvJO"
      },
      "execution_count": null,
      "outputs": []
    },
    {
      "cell_type": "markdown",
      "source": [
        "4.Create a simple webpage with an image and make the image circular using border-radius"
      ],
      "metadata": {
        "id": "u9SwxiFnYa_s"
      }
    },
    {
      "cell_type": "code",
      "source": [
        "/* 4. Circular Image */\n",
        ".circular-img {\n",
        "    width: 150px;\n",
        "    height: 150px;\n",
        "    border-radius: 50%;\n",
        "    object-fit: cover;\n",
        "    margin: 20px auto;\n",
        "    display: block;\n",
        "}\n"
      ],
      "metadata": {
        "id": "8ihExuYCYkrO"
      },
      "execution_count": null,
      "outputs": []
    },
    {
      "cell_type": "markdown",
      "source": [
        "5.& Create a simple blog website about Google fonts. The webpage must have the heading with “Oswald” font\n",
        "align center to the page, below the heading have an image of Google fonts and a paragraph about Google\n",
        "fonts in font “Montserrat” paragraph font style should be“montserrat” font."
      ],
      "metadata": {
        "id": "sn2WXxPXYudb"
      }
    },
    {
      "cell_type": "code",
      "source": [
        "/* 5. Google Fonts Blog */\n",
        "@import url('https://fonts.googleapis.com/css2?family=Montserrat&family=Oswald&display=swap');\n",
        "\n",
        ".google-fonts-blog h1 {\n",
        "    font-family: 'Oswald', sans-serif;\n",
        "    text-align: center;\n",
        "}\n",
        ".google-fonts-blog p {\n",
        "    font-family: 'Montserrat', sans-serif;\n",
        "    max-width: 600px;\n",
        "    margin: 0 auto;\n",
        "    text-align: center;\n",
        "}"
      ],
      "metadata": {
        "id": "ZKC6gxIOY2-9"
      },
      "execution_count": null,
      "outputs": []
    },
    {
      "cell_type": "markdown",
      "source": [
        "6.Create a simple website as mentioned in the below image. You can get the assets by visiting https://\n",
        "pwskills.com/about-us.\n"
      ],
      "metadata": {
        "id": "erfPU3l9ZIV4"
      }
    },
    {
      "cell_type": "code",
      "source": [
        "/* 6. Transparent Card */\n",
        ".card {\n",
        "    width: 300px;\n",
        "    margin: 20px auto;\n",
        "    background-color: #ccc;\n",
        "    opacity: 0.6;\n",
        "    padding: 20px;\n",
        "    transition: opacity 0.5s;\n",
        "}\n",
        ".card:hover {\n",
        "    opacity: 1;\n",
        "}"
      ],
      "metadata": {
        "id": "yRoGNTdLZKnn"
      },
      "execution_count": null,
      "outputs": []
    },
    {
      "cell_type": "markdown",
      "source": [
        "7.Create a simple webpage with a card similar to question number 2. The card must be semi-transparent as\n",
        "default and on hovering the card must be displayed clearly. Use CSS opacity to achieve this output."
      ],
      "metadata": {
        "id": "VgZ3OMb5ZVry"
      }
    },
    {
      "cell_type": "markdown",
      "source": [
        "/* 7. Simple List */\n",
        "ul.custom-list {\n",
        "    list-style-type: square;\n",
        "    padding-left: 20px;\n",
        "}\n",
        "</style>\n",
        "\n",
        "<!-- 1. Navigation Bar -->\n",
        "<div class=\"navbar\">\n",
        "    <a href=\"#\">Home</a>\n",
        "    <a href=\"#\">About</a>\n",
        "    <a href=\"#\">Services</a>\n",
        "    <a href=\"#\">Portfolio</a>\n",
        "    <a href=\"#\">Contact</a>\n",
        "</div>\n",
        "\n",
        "<!-- 2. Centered Image with Paragraph -->\n",
        "<div class=\"center-div\">\n",
        "    <img src=\"https://via.placeholder.com/200\" alt=\"Sample Image\">\n",
        "    <p>This is a centered paragraph below the image. You can replace this image and text as needed.</p>\n",
        "</div>\n",
        "\n",
        "<!-- 3. Navigation Bar with Borders -->\n",
        "<div class=\"navbar navbar-bordered\">\n",
        "    <a href=\"#\">Home</a>\n",
        "    <a href=\"#\">About</a>\n",
        "    <a href=\"#\">Services</a>\n",
        "    <a href=\"#\">Blog</a>\n",
        "    <a href=\"#\">Contact</a>\n",
        "</div>\n",
        "\n",
        "<!-- 4. Circular Image -->\n",
        "<img src=\"https://via.placeholder.com/150\" alt=\"Circular\" class=\"circular-img\">\n",
        "\n",
        "<!-- 5. Google Fonts Blog -->\n",
        "<div class=\"google-fonts-blog\">\n",
        "    <h1>Google Fonts</h1>\n",
        "    <img src=\"https://upload.wikimedia.org/wikipedia/commons/4/4e/Google_Fonts_logo.svg\" alt=\"Google Fonts\" style=\"width:200px; display:block; margin: 10px auto;\">\n",
        "    <p>Google Fonts provides free, open-source fonts optimized for the web. It makes websites more beautiful, fast, and accessible through great typography.</p>\n",
        "</div>\n",
        "\n",
        "<!-- 6. Transparent Card -->\n",
        "<div class=\"card\">\n",
        "    <h3>Card Title</h3>\n",
        "    <p>This card is semi-transparent by default. Hover to see full visibility using CSS opacity!</p>\n",
        "</div>\n",
        "\n",
        "<!-- 7. Simple List -->\n",
        "<ul class=\"custom-list\">\n",
        "    <li>HTML</li>\n",
        "    <li>CSS</li>\n",
        "    <li>JavaScript</li>\n",
        "    <li>React</li>\n",
        "    <li>Node.js</li>\n",
        "</ul>\n",
        "\"\"\"))\n"
      ],
      "metadata": {
        "id": "5asNiaeCZbh5"
      }
    }
  ]
}