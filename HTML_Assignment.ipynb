{
  "nbformat": 4,
  "nbformat_minor": 0,
  "metadata": {
    "colab": {
      "provenance": []
    },
    "kernelspec": {
      "name": "python3",
      "display_name": "Python 3"
    },
    "language_info": {
      "name": "python"
    }
  },
  "cells": [
    {
      "cell_type": "markdown",
      "source": [
        "HTML Assignment"
      ],
      "metadata": {
        "id": "NgfsSzCjNP14"
      }
    },
    {
      "cell_type": "markdown",
      "source": [],
      "metadata": {
        "id": "__P0eI5JN1A7"
      }
    },
    {
      "cell_type": "markdown",
      "source": [
        "1. Write a simple program in HTML  that displays the heading \"HTML defines the content and structure of\n",
        "your website” on the web browser?\n"
      ],
      "metadata": {
        "id": "QN4wThm9OHZn"
      }
    },
    {
      "cell_type": "code",
      "source": [
        "<!DOCTYPE html>\n",
        "<html lang=\"en\">\n",
        "<head>\n",
        "    <meta charset=\"UTF-8\">\n",
        "    <meta name=\"viewport\" content=\"width=device-width, initial-scale=1.0\">\n",
        "    <title>HTML Example</title>\n",
        "</head>\n",
        "<body>\n",
        "    <h1>\n",
        "        HTML defines the content and structure of your website\n",
        "    </h1>\n",
        "</body>\n",
        "</html"
      ],
      "metadata": {
        "id": "GBamWDIvOK4Y"
      },
      "execution_count": null,
      "outputs": []
    },
    {
      "cell_type": "markdown",
      "source": [
        "2.Explain the purpose of comments in HTML and provide an example of how to use comments in an HTML\n",
        "document?"
      ],
      "metadata": {
        "id": "orv5KI_9Ojs6"
      }
    },
    {
      "cell_type": "code",
      "source": [
        "\n",
        "    Comments in HTML are used to leave notes or explanations in the code that do not get displayed in the browser.Comments are used to define the structure of code.\n",
        "    Its improve the readibility and understandibility of code.\n",
        "    comments are very useful to understanding the working  and execution of program.\n",
        "    we can initialize inline comments or multiline comment.\n",
        "    Syntax of comment\n",
        "<!-- This is a comment -->\n",
        "    <!DOCTYPE html>\n",
        "<html>\n",
        "<head>\n",
        "    <title>Comment Example</title>\n",
        "</head>\n",
        "<body>\n",
        "    <!-- This is the main heading of the page -->\n",
        "    <h1>Welcome to My Website</h1>\n",
        "\n",
        "    <!-- Below is a paragraph describing the site -->\n",
        "    <p>This website is a simple HTML example.</p>\n",
        "\n",
        "    <!-- <p>This line is commented out and won't show up in the browser.</p> -->\n",
        "</body>\n",
        "</html>\n"
      ],
      "metadata": {
        "id": "n1rvsQZQOsdM"
      },
      "execution_count": null,
      "outputs": []
    },
    {
      "cell_type": "markdown",
      "source": [
        "3.Write an HTML program that includes a heading, a paragraph of text, a horizontal line, and a line break.\n",
        "Arrange these elements to create a simple web page layout$"
      ],
      "metadata": {
        "id": "6MuWXH55RpWi"
      }
    },
    {
      "cell_type": "code",
      "source": [
        "<!DOCTYPE html>\n",
        "<html lang=\"en\">\n",
        "<head>\n",
        "    <meta charset=\"UTF-8\">\n",
        "    <meta name=\"viewport\" content=\"width=device-width, initial-scale=1.0\">\n",
        "    <title>HTML Example</title>\n",
        "</head>\n",
        "<body>\n",
        "    <!-- this is for paragraph -->\n",
        "    <p>HTML Assignment</p>\n",
        "    <!-- this is for heading -->\n",
        "    <h1>\n",
        "        HTML defines the content and structure of your website\n",
        "    </h1>\n",
        "    <h2>\n",
        "        This is second heading.\n",
        "    </h2>\n",
        "    <h3>\n",
        "        This is third heading.\n",
        "    </h3>\n",
        "    <!-- this is for horizonatl line -->\n",
        "    <hr>\n",
        "    <h4>\n",
        "        <!-- this is for break -->\n",
        "        this is fourth <br> heading.\n",
        "    </h4>\n",
        "\n",
        "</body>\n",
        "</html>"
      ],
      "metadata": {
        "id": "emtGBUUvRzEi"
      },
      "execution_count": null,
      "outputs": []
    },
    {
      "cell_type": "markdown",
      "source": [
        "4.Write a short note on Tag and element with an example?"
      ],
      "metadata": {
        "id": "VO-y1dRRR-Na"
      }
    },
    {
      "cell_type": "code",
      "source": [
        "#Tag *- A tag is a keyword in angle brackets that tells the browser how to format content. Tags usually come in pairs — an opening tag and a closing tag. syntax example:\n",
        "\n",
        "#This is a paragraph.\n",
        "<p>    <!-- opening tag -->\n",
        "This is a paragraph.\n",
        "</p>   <!-- closing tag -->\n",
        "#Element An HTML element is the complete structure, which includes:\n",
        "#-An opening tag\n",
        "#-The content\n",
        "#-A closing tag\n",
        "#Syntax of element\n",
        "<h1>Hello World</h1>\n",
        "\n"
      ],
      "metadata": {
        "id": "XPRolg9rXmfo"
      },
      "execution_count": null,
      "outputs": []
    },
    {
      "cell_type": "markdown",
      "source": [
        "5..What is the DOCTYPE Declaration in HTML?"
      ],
      "metadata": {
        "id": "N9LHlINNZd76"
      }
    },
    {
      "cell_type": "code",
      "source": [
        "#The <!DOCTYPE> declaration is a special instruction that tells the web browser what version of HTML the page is written in — so it knows how to render the content correctly.\n",
        "\n",
        " #Key Points:\n",
        "#It must appear at the very top of the HTML document, before the <html> tag.\n",
        "#It is not an HTML tag — it's an instruction to the browser.\n",
        "#It helps the browser render the page in standards-compliant mode.\n",
        "\n",
        "<!DOCTYPE html>\n",
        "<html>\n",
        "<head>\n",
        "    <title>My HTML Page</title>\n",
        "</head>\n",
        "<body>\n",
        "    <h1>Hello, world!</h1>\n",
        "</body>\n",
        "</html>\n",
        "\n"
      ],
      "metadata": {
        "id": "-BRflVxsZmKS"
      },
      "execution_count": null,
      "outputs": []
    }
  ]
}