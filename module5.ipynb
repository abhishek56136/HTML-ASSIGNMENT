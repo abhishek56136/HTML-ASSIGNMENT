{
  "nbformat": 4,
  "nbformat_minor": 0,
  "metadata": {
    "colab": {
      "provenance": []
    },
    "kernelspec": {
      "name": "python3",
      "display_name": "Python 3"
    },
    "language_info": {
      "name": "python"
    }
  },
  "cells": [
    {
      "cell_type": "code",
      "execution_count": null,
      "metadata": {
        "id": "Gdt8IXwfrazI"
      },
      "outputs": [],
      "source": []
    },
    {
      "cell_type": "markdown",
      "source": [
        "1.List out the features of HTML6?\n"
      ],
      "metadata": {
        "id": "rgagdJ4Wr8N4"
      }
    },
    {
      "cell_type": "markdown",
      "source": [
        "Key Features of HTML5\n",
        " New Semantic Elements\n",
        "Helps define the structure and meaning of web content more clearly.\n",
        "\n",
        "Examples:\n",
        "\n",
        "\n",
        "\n",
        "```\n",
        "<header>, <footer>\n",
        "\n",
        "<section>, <article>\n",
        "\n",
        "<nav>, <aside>\n",
        "```\n",
        "\n",
        "\n",
        " Multimedia Support (Audio & Video)\n",
        "Native support for embedding media without third-party plugins like Flash.\n",
        "\n",
        "Tags:\n",
        "\n",
        "<audio>, <video>\n",
        "\n",
        " Canvas Element\n",
        "<canvas> tag allows for drawing graphics, games, and animations via JavaScript.\n",
        "\n",
        " SVG (Scalable Vector Graphics) Integration\n",
        "Allows inline vector graphics with tags like <svg>, useful for responsive design and animation.\n",
        "\n",
        " Improved Form Controls\n",
        "New input types for better user interaction:\n",
        "\n",
        "email, url, date, range, color, number, etc.\n",
        "\n",
        "New attributes: placeholder, required, autofocus, etc.\n",
        "\n",
        " Offline Storage Support\n",
        "Enables storing data locally without needing a database:\n",
        "\n",
        "Web Storage (localStorage, sessionStorage)\n",
        "\n",
        "IndexedDB for larger structured storage\n",
        "\n",
        " Geolocation API\n",
        "Allows web applications to access the user’s geographical location (with permission).\n",
        "\n",
        " Web Workers\n",
        "Runs scripts in the background, improving performance for tasks like data processing.\n",
        "\n",
        " Drag-and-Drop Support\n",
        "Native support for drag-and-drop operations without external libraries.\n",
        "\n",
        " Cross-Document Messaging\n",
        "Secure communication between documents from different domains using postMessage().\n",
        "\n",
        " New Attributes\n",
        "Examples:\n",
        "\n",
        "contenteditable, spellcheck, draggable, download\n",
        "\n"
      ],
      "metadata": {
        "id": "-lAZjKjZsuaD"
      }
    },
    {
      "cell_type": "markdown",
      "source": [
        "2.What are HTML Entities? List out 5 commonly used HTML entities?"
      ],
      "metadata": {
        "id": "nz4s1JbtuwML"
      }
    },
    {
      "cell_type": "markdown",
      "source": [
        "### HTML Entities\n",
        "\n",
        "**HTML Entities** are special codes used to display **reserved characters** or **symbols** in HTML that would otherwise be interpreted as part of the HTML code.\n",
        "\n",
        "For example, the character `<` is used to define tags in HTML. If you want to **display** it on a webpage as text, you use an **HTML entity** instead: `&lt;`\n",
        "\n",
        "---\n",
        "\n",
        "###  5 Commonly Used HTML Entities\n",
        "\n",
        "| Character | Entity Name | Entity Code     |\n",
        "|-----------|-------------|-----------------|\n",
        "| `<`       | `&lt;`      | Less than       |\n",
        "| `>`       | `&gt;`      | Greater than    |\n",
        "| `&`       | `&amp;`     | Ampersand       |\n",
        "| `\"`       | `&quot;`    | Double Quote    |\n",
        "| `'`       | `&apos;`    | Apostrophe      |\n",
        "\n",
        "---\n",
        "\n",
        "###  Example Usage in HTML:\n",
        "\n",
        "```html\n",
        "<p>5 &lt; 10 and 10 &gt; 5</p>\n"
      ],
      "metadata": {
        "id": "YisWq1AG0Vkh"
      }
    },
    {
      "cell_type": "markdown",
      "source": [
        "3.Define accessibility in the context of web development. Discuss why it's essential to create accessible\n",
        "websites and how it benefits different user group?"
      ],
      "metadata": {
        "id": "-Ezlwqvf0iPP"
      }
    },
    {
      "cell_type": "markdown",
      "source": [
        "###  Accessibility in Web Development\n",
        "\n",
        "**Accessibility** in web development means designing websites and web applications so that all users, including people with disabilities, can easily access, navigate, and interact with the content. This includes users with visual, auditory, motor, or cognitive impairments.\n",
        "\n",
        "---\n",
        "\n",
        "###  Why Accessibility is Essential:\n",
        "\n",
        "1. **Inclusivity** – Makes the web usable for everyone, regardless of physical or cognitive abilities.\n",
        "2. **Legal Requirements** – Helps meet legal standards like WCAG, ADA, and Section 508.\n",
        "3. **Improved Usability** – Enhances user experience for all users, including those on mobile devices or slow networks.\n",
        "4. **Better SEO** – Search engines prefer well-structured, accessible content.\n",
        "5. **Ethical Responsibility** – Contributes to a fair and equal digital environment.\n",
        "\n",
        "---\n",
        "\n",
        "###  How Accessibility Benefits Different User Groups:\n",
        "\n",
        "- **Visually Impaired Users** – Screen readers can interpret text, headings, and alt attributes when accessibility is considered.\n",
        "- **Hearing Impaired Users** – Transcripts and captions for audio/video help these users access content.\n",
        "- **Motor Impaired Users** – Keyboard-friendly navigation and voice input support make interaction easier.\n",
        "- **Cognitively Impaired Users** – Clear layouts, readable fonts, and simple language help with understanding.\n",
        "- **Mobile Users** – Accessible design ensures usability across different screen sizes and devices.\n",
        "\n",
        "---\n",
        "\n",
        "###  Summary:\n",
        "Creating accessible websites ensures that no one is left out, improves overall user experience, and aligns with global web standards.\n"
      ],
      "metadata": {
        "id": "qxk4ueQgJ3_B"
      }
    },
    {
      "cell_type": "markdown",
      "source": [
        "4.List any 3 ways which help us in improving the accessibility of HTM1?"
      ],
      "metadata": {
        "id": "DwYjTIBhKtx1"
      }
    },
    {
      "cell_type": "markdown",
      "source": [
        "###  3 Ways to Improve Accessibility in HTML\n",
        "\n",
        "1. **Use Semantic HTML Tags**\n",
        "   - Tags like `<header>`, `<nav>`, `<main>`, `<section>`, and `<footer>` help screen readers and assistive technologies understand the structure and meaning of content.\n",
        "\n",
        "2. **Add Alt Text to Images**\n",
        "   - Use the `alt` attribute in `<img>` tags to provide descriptive text for images. This helps visually impaired users understand image content through screen readers.\n",
        "   - Example: `<img src=\"logo.png\" alt=\"Company Logo\">`\n",
        "\n",
        "3. **Ensure Keyboard Navigation**\n",
        "   - Make sure all interactive elements like buttons, links, and forms can be accessed and operated using a keyboard (e.g., using `Tab`, `Enter`, and `Space` keys).\n",
        "   - Avoid using elements that only respond to mouse actions.\n",
        "\n",
        "---\n",
        "\n"
      ],
      "metadata": {
        "id": "TgFiuSVrK5fp"
      }
    },
    {
      "cell_type": "markdown",
      "source": [
        "5. Create a web page that highlights the features of HTML5. Use appropriate semantic tags to structure the\n",
        "content and showcase at least three key features of HTML5 with explanations?"
      ],
      "metadata": {
        "id": "RLMnlAS6LDRW"
      }
    },
    {
      "cell_type": "code",
      "source": [
        "<!DOCTYPE html>\n",
        "<html lang=\"en\">\n",
        "<head>\n",
        "  <meta charset=\"UTF-8\">\n",
        "  <meta name=\"viewport\" content=\"width=device-width, initial-scale=1.0\">\n",
        "  <title>Features of HTML5</title>\n",
        "  <style>\n",
        "    body {\n",
        "      font-family: Arial, sans-serif;\n",
        "      margin: 20px;\n",
        "      background-color: #f4f4f4;\n",
        "    }\n",
        "    header, footer {\n",
        "      background-color: #333;\n",
        "      color: white;\n",
        "      padding: 10px;\n",
        "      text-align: center;\n",
        "    }\n",
        "    section {\n",
        "      background: white;\n",
        "      padding: 15px;\n",
        "      margin-top: 20px;\n",
        "      border-radius: 8px;\n",
        "      box-shadow: 0 0 5px #ccc;\n",
        "    }\n",
        "    h2 {\n",
        "      color: #007BFF;\n",
        "    }\n",
        "  </style>\n",
        "</head>\n",
        "<body>\n",
        "\n",
        "  <header>\n",
        "    <h1>HTML5 Feature Highlights</h1>\n",
        "  </header>\n",
        "\n",
        "  <main>\n",
        "    <section>\n",
        "      <h2>1. Semantic Tags</h2>\n",
        "      <p>HTML5 introduced new semantic tags like <code>&lt;header&gt;</code>, <code>&lt;section&gt;</code>, <code>&lt;article&gt;</code>, and <code>&lt;footer&gt;</code>. These tags give meaning to the structure of the page and help with accessibility and SEO.</p>\n",
        "    </section>\n",
        "\n",
        "    <section>\n",
        "      <h2>2. Multimedia Support</h2>\n",
        "      <p>HTML5 allows embedding audio and video content without the need for external plugins. Below is a sample video element:</p>\n",
        "      <video controls width=\"300\">\n",
        "        <source src=\"sample.mp4\" type=\"video/mp4\">\n",
        "        Your browser does not support the video tag.\n",
        "      </video>\n",
        "    </section>\n",
        "\n",
        "    <section>\n",
        "      <h2>3. Canvas Element</h2>\n",
        "      <p>The <code>&lt;canvas&gt;</code> tag in HTML5 is used for drawing graphics via JavaScript. It is useful for rendering charts, games, and other visual content.</p>\n",
        "      <canvas width=\"200\" height=\"100\" style=\"border:1px solid #000000;\"></canvas>\n",
        "    </section>\n",
        "  </main>\n",
        "\n",
        "  <footer>\n",
        "    <p>&copy; 2025 HTML5 Demo Page</p>\n",
        "  </footer>\n",
        "\n",
        "</body>\n",
        "</html>\n"
      ],
      "metadata": {
        "id": "h1R3a8nlLx-v"
      },
      "execution_count": null,
      "outputs": []
    },
    {
      "cell_type": "markdown",
      "source": [
        "6.Create a simple web page which has a table. The table must have 2 columns HTML and HTML5. The table\n",
        "should include a minimum of three rows describing the differences between HTML and HTML5 ?"
      ],
      "metadata": {
        "id": "BhkKZpUCL0UW"
      }
    },
    {
      "cell_type": "code",
      "source": [
        "<!DOCTYPE html>\n",
        "<html lang=\"en\">\n",
        "<head>\n",
        "  <meta charset=\"UTF-8\">\n",
        "  <title>HTML vs HTML5</title>\n",
        "  <style>\n",
        "    body {\n",
        "      font-family: Arial, sans-serif;\n",
        "      padding: 20px;\n",
        "      background-color: #f5f5f5;\n",
        "    }\n",
        "    h1 {\n",
        "      text-align: center;\n",
        "      color: #333;\n",
        "    }\n",
        "    table {\n",
        "      width: 80%;\n",
        "      margin: 0 auto;\n",
        "      border-collapse: collapse;\n",
        "      background-color: #fff;\n",
        "    }\n",
        "    th, td {\n",
        "      border: 1px solid #999;\n",
        "      padding: 10px;\n",
        "      text-align: left;\n",
        "    }\n",
        "    th {\n",
        "      background-color: #007BFF;\n",
        "      color: white;\n",
        "    }\n",
        "    tr:nth-child(even) {\n",
        "      background-color: #f2f2f2;\n",
        "    }\n",
        "  </style>\n",
        "</head>\n",
        "<body>\n",
        "\n",
        "  <h1>Comparison: HTML vs HTML5</h1>\n",
        "\n",
        "  <table>\n",
        "    <tr>\n",
        "      <th>HTML</th>\n",
        "      <th>HTML5</th>\n",
        "    </tr>\n",
        "    <tr>\n",
        "      <td>No support for audio and video tags</td>\n",
        "      <td>Supports native audio and video embedding using &lt;audio&gt; and &lt;video&gt; tags</td>\n",
        "    </tr>\n",
        "    <tr>\n",
        "      <td>Limited support for semantic structure</td>\n",
        "      <td>Provides new semantic elements like &lt;header&gt;, &lt;footer&gt;, &lt;section&gt;</td>\n",
        "    </tr>\n",
        "    <tr>\n",
        "      <td>No local storage options</td>\n",
        "      <td>Introduced Web Storage API (localStorage and sessionStorage)</td>\n",
        "    </tr>\n",
        "  </table>\n",
        "\n",
        "</body>\n",
        "</html>\n"
      ],
      "metadata": {
        "id": "lnJNNk0FL5yA"
      },
      "execution_count": null,
      "outputs": []
    },
    {
      "cell_type": "markdown",
      "source": [],
      "metadata": {
        "id": "EiuWbPjkLF0g"
      }
    }
  ]
}