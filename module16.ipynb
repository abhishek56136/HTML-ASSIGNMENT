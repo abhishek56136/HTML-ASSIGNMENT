{
  "nbformat": 4,
  "nbformat_minor": 0,
  "metadata": {
    "colab": {
      "provenance": []
    },
    "kernelspec": {
      "name": "python3",
      "display_name": "Python 3"
    },
    "language_info": {
      "name": "python"
    }
  },
  "cells": [
    {
      "cell_type": "code",
      "execution_count": null,
      "metadata": {
        "id": "uBdwpMUC2MFE"
      },
      "outputs": [],
      "source": []
    },
    {
      "cell_type": "markdown",
      "source": [
        "Q1. What are conditional statements? Explain conditional statements with syntax and examples."
      ],
      "metadata": {
        "id": "cAWGVmPd2N4N"
      }
    },
    {
      "cell_type": "markdown",
      "source": [
        "Conditional statements are used in programming to perform different actions based on different conditions. These are essential for making decisions in a program.\n",
        "\n",
        "In simple terms, conditional statements control the flow of the program — they allow the program to execute certain code blocks only if a particular condition is true.\n",
        "\n",
        "Types of Conditional Statements in Most Programming Languages (like Python, JavaScript, C, etc.):\n",
        "if statement\n",
        "\n",
        "if-else statement\n",
        "\n",
        "if-else if-else ladder (or multiple conditions)\n",
        "\n",
        "switch statement (language-specific, e.g., JavaScript, C, C++)"
      ],
      "metadata": {
        "id": "SWpDE3LC2Rb2"
      }
    },
    {
      "cell_type": "code",
      "source": [
        "# if statement\n",
        "x = 10\n",
        "if x > 5:\n",
        "    print(\"x is greater than 5\")\n"
      ],
      "metadata": {
        "id": "swepHDF62no5"
      },
      "execution_count": null,
      "outputs": []
    },
    {
      "cell_type": "code",
      "source": [
        "#if-else Statement\n",
        "#Executes one block if the condition is true, otherwise executes another block.\n",
        "if condition:\n",
        "    # code if true\n",
        "else:\n",
        "    # code if false\n"
      ],
      "metadata": {
        "id": "k_KCA5uO22a3"
      },
      "execution_count": null,
      "outputs": []
    },
    {
      "cell_type": "code",
      "source": [
        "# if-elif-else (Ladder or Chain)\n",
        "#Used to check multiple conditions.\n",
        "if condition1:\n",
        "    # block 1\n",
        "elif condition2:\n",
        "    # block 2\n",
        "elif condition3:\n",
        "    # block 3\n",
        "else:\n",
        "    # default block\n"
      ],
      "metadata": {
        "id": "02QDorRH3HVt"
      },
      "execution_count": null,
      "outputs": []
    },
    {
      "cell_type": "code",
      "source": [
        "#switch Statement (Not in Python, but used in other languages like JavaScript, C, Java)\n",
        "let day = 3;\n",
        "switch(day) {\n",
        "  case 1:\n",
        "    console.log(\"Monday\");\n",
        "    break;\n",
        "  case 2:\n",
        "    console.log(\"Tuesday\");\n",
        "    break;\n",
        "  case 3:\n",
        "    console.log(\"Wednesday\");\n",
        "    break;\n",
        "  default:\n",
        "    console.log(\"Invalid day\");\n",
        "}\n"
      ],
      "metadata": {
        "id": "ZafLY8eO3UIN"
      },
      "execution_count": null,
      "outputs": []
    },
    {
      "cell_type": "markdown",
      "source": [
        "2.Q2. Write a program that grades students based on their marks^\n",
        "8 If greater than 90 then A GradE\n",
        "8 If between 70 and 90 then a B gradE\n",
        "8 If between 50 and 70 then a C gradE\n",
        "8 Below 50 then an F grade.\n"
      ],
      "metadata": {
        "id": "ormsQdAU3hpi"
      }
    },
    {
      "cell_type": "code",
      "source": [
        "let marks = 95;  // You can change this value to test different marks\n",
        "\n",
        "if (marks > 90) {\n",
        "    console.log(\"A Grade\");\n",
        "} else if (marks >= 70 && marks <= 90) {\n",
        "    console.log(\"B Grade\");\n",
        "} else if (marks >= 50 && marks < 70) {\n",
        "    console.log(\"C Grade\");\n",
        "} else {\n",
        "    console.log(\"F Grade\");\n",
        "}"
      ],
      "metadata": {
        "id": "ylDqzrFV3qg9"
      },
      "execution_count": null,
      "outputs": []
    },
    {
      "cell_type": "markdown",
      "source": [
        "3.. What are loops, and what do we need them? Explain different types of loops with their syntax and\n",
        "examples."
      ],
      "metadata": {
        "id": "zJxPw3Q2gwaD"
      }
    },
    {
      "cell_type": "markdown",
      "source": [
        "Loops are programming constructs that repeat a block of code multiple times, either:\n",
        "\n",
        "a specific number of times, or until a certain condition is met.\n",
        "Without loops, you would have to repeat the same code manually. Loops allow:\n",
        "\n",
        "Automation of repetitive tasks.\n",
        "\n",
        "Efficient and clean code.\n",
        "\n",
        "Easier handling of lists, arrays, and large datasets.\n",
        "ypes of Loops (Common in most languages like Python, JavaScript, C, etc.)\n",
        "for loop\n",
        "\n",
        "while loop\n",
        "\n",
        "do...while loop (not in Python)\n",
        "\n",
        "for...in and for...of\n",
        "Syntax of for Loop"
      ],
      "metadata": {
        "id": "tUplEmeWhQmG"
      }
    },
    {
      "cell_type": "code",
      "source": [
        "for (let i = 1; i <= 5; i++) {\n",
        "    console.log(\"Number is: \" + i);\n",
        "}\n",
        "#syntax for while loop\n",
        "let i = 1;\n",
        "while (i <= 5) {\n",
        "    console.log(\"Count: \" + i);\n",
        "    i++;\n",
        "}\n",
        "#syntax of do...while\n",
        "let i = 1;\n",
        "do {\n",
        "    console.log(\"Do-While: \" + i);\n",
        "    i++;\n",
        "} while (i <= 3);\n",
        "#for...in and for...of\n",
        "let colors = [\"red\", \"green\", \"blue\"];\n",
        "\n",
        "for (let color of colors) {\n",
        "    console.log(color);\n",
        "}\n"
      ],
      "metadata": {
        "id": "Mry2zIAuhviR"
      },
      "execution_count": null,
      "outputs": []
    },
    {
      "cell_type": "markdown",
      "source": [
        "4.Q4. Generate numbers between any 2 given numbers.\n",
        "\n",
        "Ex\n",
        "8 const num1 = 10\n",
        "8 const num2 = 25;\n",
        "\n",
        "Output: 11, 12, 13, …., 25"
      ],
      "metadata": {
        "id": "11JceX2Nbjul"
      }
    },
    {
      "cell_type": "code",
      "source": [
        "let num1=10;\n",
        "let num2=25;\n",
        "for(;num1 < num2;){\n",
        "    console.log(num1);\n",
        "    num1+=2;\n",
        "}\n",
        "\n",
        "/* output= 12,14,16,18,20,22,24*/"
      ],
      "metadata": {
        "id": "AALSavqjpZD8"
      },
      "execution_count": null,
      "outputs": []
    },
    {
      "cell_type": "markdown",
      "source": [
        "5. Use the while loop to print numbers from 1 to 25 in ascending and descending order."
      ],
      "metadata": {
        "id": "GoaQJ8cXpd38"
      }
    },
    {
      "cell_type": "code",
      "source": [
        "#ascending order\n",
        "let num1=1;\n",
        "let num2=25;\n",
        "while(num1 <= num2){\n",
        "    console.log(num1);\n",
        "    num1++;\n",
        "}\n",
        "#descending order\n",
        "let num1=1;\n",
        "let num2=25;\n",
        "while(num2 >= num1){\n",
        "    console.log(num2);\n",
        "    num2--;\n",
        "}\n",
        "\n"
      ],
      "metadata": {
        "id": "BGKIgCbYpnnW"
      },
      "execution_count": null,
      "outputs": []
    }
  ]
}